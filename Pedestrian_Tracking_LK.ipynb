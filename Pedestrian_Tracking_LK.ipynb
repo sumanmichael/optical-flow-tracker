{
  "nbformat": 4,
  "nbformat_minor": 0,
  "metadata": {
    "colab": {
      "name": "Pedestrian_Tracking_LK",
      "provenance": [],
      "collapsed_sections": [],
      "authorship_tag": "ABX9TyOqN9e91t1Fhr4VNAzi7A8S",
      "include_colab_link": true
    },
    "kernelspec": {
      "name": "python3",
      "display_name": "Python 3"
    }
  },
  "cells": [
    {
      "cell_type": "markdown",
      "metadata": {
        "id": "view-in-github",
        "colab_type": "text"
      },
      "source": [
        "<a href=\"https://colab.research.google.com/github/sumanmichael/optical-flow-tracker/blob/main/Pedestrian_Tracking_LK.ipynb\" target=\"_parent\"><img src=\"https://colab.research.google.com/assets/colab-badge.svg\" alt=\"Open In Colab\"/></a>"
      ]
    },
    {
      "cell_type": "code",
      "metadata": {
        "id": "WNbcfVjpUD2v"
      },
      "source": [
        "from google.colab import drive\n",
        "drive.mount('/gdrive')\n",
        " \n",
        "!cp \"/gdrive/My Drive/3_N/\"* \"/content/\"\n",
        "!unzip *.zip\n",
        "!rm -rf *.zip"
      ],
      "execution_count": null,
      "outputs": []
    },
    {
      "cell_type": "code",
      "metadata": {
        "id": "Dhj9TJ1tjuqt",
        "colab": {
          "base_uri": "https://localhost:8080/",
          "height": 51
        },
        "outputId": "c003108e-6c86-4be3-d55d-d9bb2f7d19b0"
      },
      "source": [
        "!cat gt/gt.txt | head -n 2"
      ],
      "execution_count": null,
      "outputs": [
        {
          "output_type": "stream",
          "text": [
            "1,1,119.4853515625,165.3369140625,28.700000762939453,29.383333206176758,1,1,1.0\r\n",
            "1,2,19.03515625,174.9033203125,26.649999618530273,23.91666603088379,1,1,1.0\r\n"
          ],
          "name": "stdout"
        }
      ]
    },
    {
      "cell_type": "code",
      "metadata": {
        "id": "9vb5hCIb6pMq",
        "colab": {
          "base_uri": "https://localhost:8080/",
          "height": 1000
        },
        "outputId": "7b696ab3-349b-4036-bf4c-04b6db6cbd0f"
      },
      "source": [
        "!pip install motmetrics line_profiler\n",
        "%load_ext line_profiler"
      ],
      "execution_count": null,
      "outputs": [
        {
          "output_type": "stream",
          "text": [
            "Collecting motmetrics\n",
            "\u001b[?25l  Downloading https://files.pythonhosted.org/packages/9c/28/9c3bc8e2a87f4c9e7b04ab72856ec7f9895a66681a65973ffaf9562ef879/motmetrics-1.2.0-py3-none-any.whl (151kB)\n",
            "\u001b[K     |████████████████████████████████| 153kB 2.8MB/s \n",
            "\u001b[?25hCollecting line_profiler\n",
            "\u001b[?25l  Downloading https://files.pythonhosted.org/packages/d8/cc/4237472dd5c9a1a4079a89df7ba3d2924eed2696d68b91886743c728a9df/line_profiler-3.0.2-cp36-cp36m-manylinux2010_x86_64.whl (68kB)\n",
            "\u001b[K     |████████████████████████████████| 71kB 4.8MB/s \n",
            "\u001b[?25hCollecting flake8-import-order\n",
            "  Downloading https://files.pythonhosted.org/packages/ab/52/cf2d6e2c505644ca06de2f6f3546f1e4f2b7be34246c9e0757c6048868f9/flake8_import_order-0.18.1-py2.py3-none-any.whl\n",
            "Requirement already satisfied: numpy>=1.12.1 in /usr/local/lib/python3.6/dist-packages (from motmetrics) (1.18.5)\n",
            "Collecting flake8\n",
            "\u001b[?25l  Downloading https://files.pythonhosted.org/packages/6c/20/6326a9a0c6f0527612bae748c4c03df5cd69cf06dfb2cf59d85c6e165a6a/flake8-3.8.3-py2.py3-none-any.whl (72kB)\n",
            "\u001b[K     |████████████████████████████████| 81kB 5.1MB/s \n",
            "\u001b[?25hRequirement already satisfied: pytest in /usr/local/lib/python3.6/dist-packages (from motmetrics) (3.6.4)\n",
            "Requirement already satisfied: pandas>=0.23.1 in /usr/local/lib/python3.6/dist-packages (from motmetrics) (1.0.5)\n",
            "Requirement already satisfied: scipy>=0.19.0 in /usr/local/lib/python3.6/dist-packages (from motmetrics) (1.4.1)\n",
            "Collecting pytest-benchmark\n",
            "\u001b[?25l  Downloading https://files.pythonhosted.org/packages/e7/1e/180579ad3bc53fe3181ef3843f0602f4db77f3609e5e5069a0ec194ff213/pytest_benchmark-3.2.3-py2.py3-none-any.whl (49kB)\n",
            "\u001b[K     |████████████████████████████████| 51kB 4.8MB/s \n",
            "\u001b[?25hCollecting xmltodict>=0.12.0\n",
            "  Downloading https://files.pythonhosted.org/packages/28/fd/30d5c1d3ac29ce229f6bdc40bbc20b28f716e8b363140c26eff19122d8a5/xmltodict-0.12.0-py2.py3-none-any.whl\n",
            "Requirement already satisfied: IPython in /usr/local/lib/python3.6/dist-packages (from line_profiler) (5.5.0)\n",
            "Requirement already satisfied: setuptools in /usr/local/lib/python3.6/dist-packages (from flake8-import-order->motmetrics) (49.2.0)\n",
            "Collecting pycodestyle\n",
            "\u001b[?25l  Downloading https://files.pythonhosted.org/packages/10/5b/88879fb861ab79aef45c7e199cae3ef7af487b5603dcb363517a50602dd7/pycodestyle-2.6.0-py2.py3-none-any.whl (41kB)\n",
            "\u001b[K     |████████████████████████████████| 51kB 4.0MB/s \n",
            "\u001b[?25hRequirement already satisfied: importlib-metadata; python_version < \"3.8\" in /usr/local/lib/python3.6/dist-packages (from flake8->motmetrics) (1.7.0)\n",
            "Collecting mccabe<0.7.0,>=0.6.0\n",
            "  Downloading https://files.pythonhosted.org/packages/87/89/479dc97e18549e21354893e4ee4ef36db1d237534982482c3681ee6e7b57/mccabe-0.6.1-py2.py3-none-any.whl\n",
            "Collecting pyflakes<2.3.0,>=2.2.0\n",
            "\u001b[?25l  Downloading https://files.pythonhosted.org/packages/69/5b/fd01b0c696f2f9a6d2c839883b642493b431f28fa32b29abc465ef675473/pyflakes-2.2.0-py2.py3-none-any.whl (66kB)\n",
            "\u001b[K     |████████████████████████████████| 71kB 5.1MB/s \n",
            "\u001b[?25hRequirement already satisfied: six>=1.10.0 in /usr/local/lib/python3.6/dist-packages (from pytest->motmetrics) (1.15.0)\n",
            "Requirement already satisfied: py>=1.5.0 in /usr/local/lib/python3.6/dist-packages (from pytest->motmetrics) (1.9.0)\n",
            "Requirement already satisfied: atomicwrites>=1.0 in /usr/local/lib/python3.6/dist-packages (from pytest->motmetrics) (1.4.0)\n",
            "Requirement already satisfied: pluggy<0.8,>=0.5 in /usr/local/lib/python3.6/dist-packages (from pytest->motmetrics) (0.7.1)\n",
            "Requirement already satisfied: more-itertools>=4.0.0 in /usr/local/lib/python3.6/dist-packages (from pytest->motmetrics) (8.4.0)\n",
            "Requirement already satisfied: attrs>=17.4.0 in /usr/local/lib/python3.6/dist-packages (from pytest->motmetrics) (19.3.0)\n",
            "Requirement already satisfied: pytz>=2017.2 in /usr/local/lib/python3.6/dist-packages (from pandas>=0.23.1->motmetrics) (2018.9)\n",
            "Requirement already satisfied: python-dateutil>=2.6.1 in /usr/local/lib/python3.6/dist-packages (from pandas>=0.23.1->motmetrics) (2.8.1)\n",
            "Collecting py-cpuinfo\n",
            "\u001b[?25l  Downloading https://files.pythonhosted.org/packages/f6/f5/8e6e85ce2e9f6e05040cf0d4e26f43a4718bcc4bce988b433276d4b1a5c1/py-cpuinfo-7.0.0.tar.gz (95kB)\n",
            "\u001b[K     |████████████████████████████████| 102kB 5.4MB/s \n",
            "\u001b[?25hRequirement already satisfied: simplegeneric>0.8 in /usr/local/lib/python3.6/dist-packages (from IPython->line_profiler) (0.8.1)\n",
            "Requirement already satisfied: pexpect; sys_platform != \"win32\" in /usr/local/lib/python3.6/dist-packages (from IPython->line_profiler) (4.8.0)\n",
            "Requirement already satisfied: prompt-toolkit<2.0.0,>=1.0.4 in /usr/local/lib/python3.6/dist-packages (from IPython->line_profiler) (1.0.18)\n",
            "Requirement already satisfied: traitlets>=4.2 in /usr/local/lib/python3.6/dist-packages (from IPython->line_profiler) (4.3.3)\n",
            "Requirement already satisfied: pickleshare in /usr/local/lib/python3.6/dist-packages (from IPython->line_profiler) (0.7.5)\n",
            "Requirement already satisfied: decorator in /usr/local/lib/python3.6/dist-packages (from IPython->line_profiler) (4.4.2)\n",
            "Requirement already satisfied: pygments in /usr/local/lib/python3.6/dist-packages (from IPython->line_profiler) (2.1.3)\n",
            "Requirement already satisfied: zipp>=0.5 in /usr/local/lib/python3.6/dist-packages (from importlib-metadata; python_version < \"3.8\"->flake8->motmetrics) (3.1.0)\n",
            "Requirement already satisfied: ptyprocess>=0.5 in /usr/local/lib/python3.6/dist-packages (from pexpect; sys_platform != \"win32\"->IPython->line_profiler) (0.6.0)\n",
            "Requirement already satisfied: wcwidth in /usr/local/lib/python3.6/dist-packages (from prompt-toolkit<2.0.0,>=1.0.4->IPython->line_profiler) (0.2.5)\n",
            "Requirement already satisfied: ipython-genutils in /usr/local/lib/python3.6/dist-packages (from traitlets>=4.2->IPython->line_profiler) (0.2.0)\n",
            "Building wheels for collected packages: py-cpuinfo\n",
            "  Building wheel for py-cpuinfo (setup.py) ... \u001b[?25l\u001b[?25hdone\n",
            "  Created wheel for py-cpuinfo: filename=py_cpuinfo-7.0.0-cp36-none-any.whl size=20069 sha256=6079e42b0a84718ec3e9a0c9c83ae567b3c31b3cad6b14f5c2b89bbcd66db2fb\n",
            "  Stored in directory: /root/.cache/pip/wheels/f1/93/7b/127daf0c3a5a49feb2fecd468d508067c733fba5192f726ad1\n",
            "Successfully built py-cpuinfo\n",
            "\u001b[31mERROR: pytest-benchmark 3.2.3 has requirement pytest>=3.8, but you'll have pytest 3.6.4 which is incompatible.\u001b[0m\n",
            "Installing collected packages: pycodestyle, flake8-import-order, mccabe, pyflakes, flake8, py-cpuinfo, pytest-benchmark, xmltodict, motmetrics, line-profiler\n",
            "Successfully installed flake8-3.8.3 flake8-import-order-0.18.1 line-profiler-3.0.2 mccabe-0.6.1 motmetrics-1.2.0 py-cpuinfo-7.0.0 pycodestyle-2.6.0 pyflakes-2.2.0 pytest-benchmark-3.2.3 xmltodict-0.12.0\n"
          ],
          "name": "stdout"
        }
      ]
    },
    {
      "cell_type": "code",
      "metadata": {
        "id": "MgySh3gGMOB3",
        "colab": {
          "base_uri": "https://localhost:8080/",
          "height": 68
        },
        "outputId": "b4b65799-0c5d-45ef-c92c-a2c012af814e"
      },
      "source": [
        "%%time\n",
        "import os\n",
        "import cv2\n",
        "import progressbar\n",
        "\n",
        "sorted_list = sorted(os.listdir(\"img1\"))\n",
        "gray_images = [ cv2.cvtColor(cv2.imread(\"img1/\"+img), cv2.COLOR_BGR2GRAY) \\\n",
        "               for img in progressbar.progressbar(sorted_list)]"
      ],
      "execution_count": null,
      "outputs": [
        {
          "output_type": "stream",
          "text": [
            "100% (425 of 425) |######################| Elapsed Time: 0:00:02 Time:  0:00:02\n"
          ],
          "name": "stderr"
        },
        {
          "output_type": "stream",
          "text": [
            "CPU times: user 2.56 s, sys: 175 ms, total: 2.73 s\n",
            "Wall time: 2.24 s\n"
          ],
          "name": "stdout"
        }
      ]
    },
    {
      "cell_type": "code",
      "metadata": {
        "id": "aomSUn5xc0Sp",
        "colab": {
          "base_uri": "https://localhost:8080/",
          "height": 34
        },
        "outputId": "bdb65b96-a896-46a9-e806-e8621cc34e85"
      },
      "source": [
        "gray_images[0].shape"
      ],
      "execution_count": null,
      "outputs": [
        {
          "output_type": "execute_result",
          "data": {
            "text/plain": [
              "(452, 636)"
            ]
          },
          "metadata": {
            "tags": []
          },
          "execution_count": 8
        }
      ]
    },
    {
      "cell_type": "code",
      "metadata": {
        "id": "TY9qfbFMuDLN",
        "colab": {
          "base_uri": "https://localhost:8080/",
          "height": 34
        },
        "outputId": "2d93d797-1a87-4774-a4e5-1220f25a71f7"
      },
      "source": [
        "%%file opticalflow_perPed.py\n",
        "import cv2\n",
        "import pandas as pd\n",
        "import progressbar\n",
        "import numpy as np\n",
        "import sys\n",
        "import csv\n",
        " \n",
        "def opticalflowtracker(gray_images):\n",
        "  img_size = (636,452)\n",
        "  gt_columns = [\"frame\", \"id\", \"bb_left\", \"bb_top\", \"bb_width\", \"bb_height\", \"conf\", \"x\", \"y\", \"z\"]\n",
        "  gt = pd.read_csv(\"gt/gt.txt\",names=gt_columns)\n",
        "  gt.drop([\"conf\",\"x\",\"y\",\"z\"],axis=1,inplace=True)\n",
        " \n",
        "  getCentroid = lambda bbox: (bbox[0]+(bbox[2]//2),bbox[1]+(bbox[3]//2))\n",
        "  params = dict(winSize  = (15,15),\n",
        "              maxLevel = 4,\n",
        "              criteria = (cv2.TERM_CRITERIA_EPS | cv2.TERM_CRITERIA_COUNT, 10, 0.03))\n",
        " \n",
        " \n",
        "  tracker_output_np = np.array([],dtype=np.int32).reshape(-1,4)\n",
        "  TRACKER_MODE = \"LK\"\n",
        " \n",
        "  for ped_id in progressbar.progressbar(gt.id.unique()):\n",
        "    gt_ped = gt[gt.id==ped_id].sort_values(by=\"frame\")\n",
        " \n",
        "    frame_number = gt_ped.frame.iloc[0]\n",
        "    bbox = tuple(gt_ped[[\"bb_left\",\"bb_top\",\"bb_width\",\"bb_height\"]].iloc[0].values)\n",
        "    prevPoints = np.array([getCentroid(bbox)],dtype=np.float32).reshape(-1,2)\n",
        " \n",
        "    # prevImg = cv2.imread(\"img1/{}.jpg\".format(str(frame_number).zfill(6)))\n",
        "    # prevImg_gray = cv2.cvtColor(prevImg, cv2.COLOR_BGR2GRAY)\n",
        "    prevImg_gray = gray_images[frame_number-1]\n",
        " \n",
        "    for i,frame_number in enumerate(gt_ped.frame.iloc[1:]):\n",
        "      # currImg = cv2.imread(\"img1/{}.jpg\".format(str(frame_number).zfill(6)))\n",
        "      # currImg_gray = cv2.cvtColor(currImg, cv2.COLOR_BGR2GRAY)\n",
        "      currImg_gray=gray_images[frame_number-1]\n",
        " \n",
        "      currPoints, st, err = cv2.calcOpticalFlowPyrLK(prevImg_gray, currImg_gray, prevPts=prevPoints, nextPts=None, **params)\n",
        "      for (x,y) in currPoints:\n",
        "        if(x<0 or y<0 or x>img_size[0] or y>img_size[1]):\n",
        "          break\n",
        "        tracker_output_np = np.concatenate((tracker_output_np,[[ int(x) for x in [frame_number,ped_id,x,y]]]),axis=0)\n",
        "      if(len(prevPoints)==0):\n",
        "        break\n",
        " \n",
        "      prevImg_gray=currImg_gray\n",
        "      prevPoints = currPoints\n",
        "      \n",
        "  with open(f\"tracker_LK_perPed.csv\", mode=\"w\") as csvfile:\n",
        "    writer = csv.writer(csvfile,delimiter=',', quotechar='\"', quoting=csv.QUOTE_MINIMAL)\n",
        "    writer.writerow([\"frame\",\"id\",\"x\",\"y\"])\n",
        "    writer.writerows(tracker_output_np)\n",
        "  \n",
        "# print(f\"MODEL:{TRACKER_MODE}\")\n",
        "# %time\n",
        "# opticalflowtracker(gray_images)"
      ],
      "execution_count": null,
      "outputs": [
        {
          "output_type": "stream",
          "text": [
            "Writing opticalflow_perPed.py\n"
          ],
          "name": "stdout"
        }
      ]
    },
    {
      "cell_type": "code",
      "metadata": {
        "id": "e7MiQonX-C7T",
        "colab": {
          "base_uri": "https://localhost:8080/"
        },
        "outputId": "e1135f65-8ba7-46a1-eeab-25de2ac473c7"
      },
      "source": [
        "from opticalflow_perPed import opticalflowtracker\n",
        " \n",
        "%lprun -T lk_time_prof_perPed  -f opticalflowtracker opticalflowtracker(gray_images)\n",
        "# !cp \"tracker_LK.csv\" \"/gdrive/My Drive/3_N/\""
      ],
      "execution_count": null,
      "outputs": [
        {
          "output_type": "stream",
          "text": [
            "100% (138 of 138) |######################| Elapsed Time: 0:00:27 Time:  0:00:27\n"
          ],
          "name": "stderr"
        },
        {
          "output_type": "stream",
          "text": [
            "\n",
            "*** Profile printout saved to text file 'lk_time_prof_perPed'. \n"
          ],
          "name": "stdout"
        }
      ]
    },
    {
      "cell_type": "code",
      "metadata": {
        "id": "yMbBYXl919kN"
      },
      "source": [
        "# import pandas as pd\n",
        "\n",
        "# gt_columns = [\"frame\", \"id\", \"bb_left\", \"bb_top\", \"bb_width\", \"bb_height\", \"conf\", \"x\", \"y\", \"z\"]\n",
        "\n",
        "# tracker_csv_df = pd.read_csv(\"tracker_LK.csv\")\n",
        "# gt_csv_df = pd.read_csv(\"gt/gt.txt\",names=gt_columns)"
      ],
      "execution_count": null,
      "outputs": []
    },
    {
      "cell_type": "code",
      "metadata": {
        "id": "nVQfkkGN3DTY"
      },
      "source": [
        "# gt_csv_df[\"h\"] = gt_csv_df[\"bb_left\"]+(gt_csv_df[\"bb_width\"]//2)\n",
        "# gt_csv_df[\"k\"] = gt_csv_df[\"bb_top\"]+(gt_csv_df[\"bb_height\"]//2)\n",
        "# gt_csv_df.drop([\"bb_left\", \"bb_top\", \"bb_width\", \"bb_height\",\"conf\",\"x\",\"y\",\"z\"],axis=1,inplace=True)"
      ],
      "execution_count": null,
      "outputs": []
    },
    {
      "cell_type": "code",
      "metadata": {
        "id": "dtZO9jeM_tuO",
        "colab": {
          "base_uri": "https://localhost:8080/",
          "height": 34
        },
        "outputId": "9a81b14d-29d5-4216-f0a1-9424458fc9fd"
      },
      "source": [
        "%%file opticalflow_perFrame.py\n",
        "import pandas as pd\n",
        "import numpy as np\n",
        "import progressbar\n",
        "import cv2\n",
        "import csv\n",
        "import matplotlib.pyplot as plt\n",
        "plt.rcParams[\"figure.figsize\"] = (20,15)\n",
        "\n",
        "img_size = (636,452)\n",
        "def opticalflowtracker(gray_images):\n",
        "  gt_columns = [\"frame\", \"id\", \"bb_left\", \"bb_top\", \"bb_width\", \"bb_height\", \"conf\", \"x\", \"y\", \"z\"]\n",
        "  gt_csv_df = pd.read_csv(\"gt/gt.txt\",names=gt_columns)\n",
        "  gt_csv_df[\"h\"] = gt_csv_df[\"bb_left\"]+(gt_csv_df[\"bb_width\"]/2)\n",
        "  gt_csv_df[\"k\"] = gt_csv_df[\"bb_top\"]+(gt_csv_df[\"bb_height\"]/2)\n",
        "  gt_csv_df.drop([\"bb_left\", \"bb_top\", \"bb_width\", \"bb_height\",\"conf\",\"x\",\"y\",\"z\"],axis=1,inplace=True)\n",
        "\n",
        "  params = dict(winSize  = (15,15),\n",
        "              maxLevel = 2,\n",
        "              criteria = (cv2.TERM_CRITERIA_EPS | cv2.TERM_CRITERIA_COUNT, 10, 0.03))\n",
        "    \n",
        "  ppp = dict((int(arr[1]),(arr[2],arr[3])) for arr in gt_csv_df[gt_csv_df.frame==1].values)\n",
        "  prevImg_gray = gray_images[0]\n",
        "\n",
        "  tracker_output_np = np.array([],dtype=np.int32).reshape(-1,4)\n",
        "\n",
        "  for frame in progressbar.progressbar(range(2,max(gt_csv_df.frame.to_numpy())+1)):\n",
        "    currImg_gray = gray_images[frame-1]\n",
        "    prev_points = np.array(list(ppp.values()),dtype=np.float32)\n",
        "    curr_points,_,_ = cv2.calcOpticalFlowPyrLK(prevImg_gray, currImg_gray, prevPts=prev_points, nextPts=None, **params)\n",
        "    ppp = dict(zip(ppp.keys(),curr_points))\n",
        "    rem_ppp_keys = []\n",
        "    for k,v in ppp.items():\n",
        "      if(v[0]<0 or v[1]<0 or v[0]>img_size[0] or v[1]>img_size[1]):\n",
        "        rem_ppp_keys.append(k)\n",
        "    for k in rem_ppp_keys:\n",
        "      del ppp[k]\n",
        "    curr_ped_ids_gt = set(gt_csv_df[gt_csv_df.frame==frame][\"id\"])\n",
        "    curr_ped_ids_tk = set(ppp.keys())\n",
        "    for id in curr_ped_ids_gt.difference(curr_ped_ids_tk):\n",
        "      _,_,x,y = gt_csv_df[(gt_csv_df.id==id) & (gt_csv_df.frame==frame)].iloc[0]\n",
        "      ppp[id] = np.array([x,y],dtype=np.float32)\n",
        "    for k,v in ppp.items():\n",
        "      tracker_output_np = np.concatenate((tracker_output_np,[[ int(x) for x in [frame,k,*v]]]),axis=0)\n",
        "    \n",
        "    prevImg_gray=currImg_gray\n",
        "    prevPoints = curr_points\n",
        "\n",
        "  with open(f\"tracker_LK_perFrame.csv\", mode=\"w\") as csvfile:\n",
        "      writer = csv.writer(csvfile,delimiter=',', quotechar='\"', quoting=csv.QUOTE_MINIMAL)\n",
        "      writer.writerow([\"frame\",\"id\",\"x\",\"y\"])\n",
        "      writer.writerows(tracker_output_np)\n",
        "# opticalflowtracker(gray_images)"
      ],
      "execution_count": null,
      "outputs": [
        {
          "output_type": "stream",
          "text": [
            "Writing opticalflow_perFrame3.py\n"
          ],
          "name": "stdout"
        }
      ]
    },
    {
      "cell_type": "code",
      "metadata": {
        "id": "aO1Hc2JOM7dA",
        "colab": {
          "base_uri": "https://localhost:8080/",
          "height": 68
        },
        "outputId": "022030a5-19c1-4400-b985-7663378c5d87"
      },
      "source": [
        "from opticalflow_perFrame import opticalflowtracker\n",
        " \n",
        "%lprun -T lk_time_prof_perFrame  -f opticalflowtracker opticalflowtracker(gray_images)\n",
        "# !cp lkprofm2 \"/gdrive/My Drive/outputmot\"\n",
        "# !cp \"tracker_LK_2.csv\" \"/gdrive/My Drive/outputmot\""
      ],
      "execution_count": null,
      "outputs": [
        {
          "output_type": "stream",
          "text": [
            "100% (424 of 424) |######################| Elapsed Time: 0:00:04 Time:  0:00:04\n"
          ],
          "name": "stderr"
        },
        {
          "output_type": "stream",
          "text": [
            "\n",
            "*** Profile printout saved to text file 'lk_time_prof_perFrame'. \n"
          ],
          "name": "stdout"
        }
      ]
    },
    {
      "cell_type": "code",
      "metadata": {
        "id": "bE75YZGs4UzK",
        "colab": {
          "base_uri": "https://localhost:8080/",
          "height": 51
        },
        "outputId": "f39eef12-36f2-4cc4-f0f6-46f361b08823"
      },
      "source": [
        "import motmetrics as mm\n",
        "import progressbar\n",
        "import numpy as np\n",
        "import pandas as pd\n",
        "pd.options.display.max_colwidth = 900\n",
        "\n",
        "def get_datasets(tk_path,gt_path=\"gt/gt.txt\"):\n",
        "  gt_columns = [\"frame\", \"id\", \"bb_left\", \"bb_top\", \"bb_width\", \"bb_height\", \"conf\", \"x\", \"y\", \"z\"]\n",
        "  gt_csv_df = pd.read_csv(gt_path,names=gt_columns) \n",
        "  gt_csv_df.drop([\"conf\",\"x\",\"y\",\"z\"],axis=1,inplace=True)\n",
        "\n",
        "  tracker_csv_df = pd.read_csv(tk_path)\n",
        "  return gt_csv_df,tracker_csv_df\n",
        "\n",
        "def get_mm(gt_csv_df,tracker_csv_df,type,THRESH,NAME):\n",
        "\n",
        "  METRIC_COLUMNS = ['mota', 'motp', 'num_misses','num_switches', \\\n",
        "                    'num_false_positives', 'num_unique_objects', 'mostly_tracked',\\\n",
        "                    'partially_tracked','mostly_lost']\n",
        "\n",
        "  traj_gt = gt_csv_df.values\n",
        "  traj_model = tracker_csv_df.values\n",
        "  frames = np.unique(traj_gt[:,0])\n",
        "\n",
        "  # Create an accumulator that will be updated during each frame\n",
        "  acc = mm.MOTAccumulator(auto_id=True)\n",
        "\n",
        "  # for frame in progressbar.progressbar(frames):\n",
        "  for frame in frames:\n",
        "      gt = traj_gt[traj_gt[:,0]==frame]\n",
        "      gt_id = gt[:, 1]\n",
        "      gt_coords = gt[:, 2:]\n",
        "\n",
        "      model = traj_model[traj_model[:,0]==frame]\n",
        "      model_id = model[:, 1]\n",
        "      model_coords = model[:, 2:]\n",
        "\n",
        "      if(type==\"dot\"):\n",
        "        gt_coords[:,0] += (gt_coords[:,2]/2)\n",
        "        gt_coords[:,1] += (gt_coords[:,3]/2)\n",
        "        gt_coords = gt_coords[:,:2]\n",
        "        C = mm.distances.norm2squared_matrix(gt_coords, model_coords, max_d2=THRESH)\n",
        "      else:\n",
        "        C = mm.distances.iou_matrix(gt_coords, model_coords, max_iou=THRESH)\n",
        "\n",
        "      f_id = acc.update(\n",
        "          gt_id,      # Ground truth objects in this frame\n",
        "          model_id,   # Detector hypotheses in this frame\n",
        "          C\n",
        "      )\n",
        "\n",
        "  mh = mm.metrics.create()\n",
        "  summary = mh.compute(acc, metrics=METRIC_COLUMNS, name=NAME)\n",
        "  strsummary = mm.io.render_summary(\n",
        "    summary,\n",
        "    # formatters=mh.formatters,\n",
        "    namemap=mm.io.motchallenge_metric_names\n",
        "  )\n",
        "  print(strsummary)\n",
        "\n",
        "# for tresh in range(100,10000,100):\n",
        "#   print(tresh)\n",
        "  # get_mm(*get_datasets(tk_path=\"tracker_LK_perPed.csv\"),type=\"dot\",THRESH=tresh)\n",
        "get_mm(*get_datasets(tk_path=\"tracker_LK_2.csv\"),type=\"dot\",NAME=\"LK_MOT20\",THRESH=1000)"
      ],
      "execution_count": null,
      "outputs": [
        {
          "output_type": "stream",
          "text": [
            "              MOTA        MOTP     FN   IDs     FP   GT  MT   PT  ML\n",
            "LK_MOT20 -3.760852  457.387494  17759  3864  92766  138   1  105  32\n"
          ],
          "name": "stdout"
        }
      ]
    },
    {
      "cell_type": "code",
      "metadata": {
        "id": "BsBHuaEFNv42"
      },
      "source": [
        "import matplotlib.pyplot as plt\n",
        "import matplotlib.patches as patches\n",
        "import cv2\n",
        "\n",
        "def get_datasets(tk_path,gt_path=\"gt/gt.txt\"):\n",
        "  gt_columns = [\"frame\", \"id\", \"bb_left\", \"bb_top\", \"bb_width\", \"bb_height\", \"conf\", \"x\", \"y\", \"z\"]\n",
        "  gt_csv_df = pd.read_csv(gt_path,names=gt_columns) \n",
        "  gt_csv_df.drop([\"conf\",\"x\",\"y\",\"z\"],axis=1,inplace=True)\n",
        "\n",
        "  tracker_csv_df = pd.read_csv(tk_path)\n",
        "  return gt_csv_df,tracker_csv_df\n",
        "\n",
        "def plot_ped_track(gt_csv_df,tracker_csv_df,PED_IDs,type):\n",
        "  \n",
        "  fig,ax = plt.subplots(1,figsize=(15,15))\n",
        "  ax.imshow(cv2.imread(\"img1/{}.jpg\".format(str(1).zfill(6))),cmap=\"gray\")\n",
        "  \n",
        "  for PED_ID in PED_IDs:\n",
        "    data_gt = gt_csv_df[gt_csv_df.id==PED_ID].values[:,2:]\n",
        "    data_tk = tracker_csv_df[tracker_csv_df.id==PED_ID].values[:,2:]\n",
        "\n",
        "    if type==\"dot\":\n",
        "      data_gt[:,0] += (data_gt[:,2]/2)\n",
        "      data_gt[:,1] += (data_gt[:,3]/2)\n",
        "      data_gt = data_gt[:,:2]\n",
        "      ax.scatter(data_gt[:,0],data_gt[:,1],color=\"red\")\n",
        "      ax.scatter(data_tk[:,0],data_tk[:,1],color=\"blue\")\n",
        "    else:\n",
        "      for x,y,w,h in data_gt:\n",
        "        ax.add_patch(\n",
        "            patches.Rectangle((x,y),w,h,linewidth=1,edgecolor='r',facecolor='none')\n",
        "        )\n",
        "\n",
        "      for x,y,w,h in data_tk:\n",
        "        ax.add_patch(         \n",
        "            patches.Rectangle((x,y),w,h,linewidth=1,edgecolor='b',facecolor='none')\n",
        "        )\n",
        "\n",
        "def plot_frame(gt_csv_df,tracker_csv_df,FRAME_NUM,type):\n",
        "  fig,ax = plt.subplots(1,figsize=(15,15))\n",
        "  ax.imshow(cv2.imread(\"img1/{}.jpg\".format(str(FRAME_NUM).zfill(6))))\n",
        "\n",
        "  data_gt = gt_csv_df[gt_csv_df.frame==FRAME_NUM].values[:,2:]\n",
        "  data_tk = tracker_csv_df[tracker_csv_df.frame==FRAME_NUM].values[:,2:]\n",
        "  if type==\"dot\":\n",
        "    data_gt[:,0] += (data_gt[:,2]/2)\n",
        "    data_gt[:,1] += (data_gt[:,3]/2)\n",
        "    data_gt = data_gt[:,:2]\n",
        "    ax.scatter(data_gt[:,0],data_gt[:,1],color=\"red\")\n",
        "    ax.scatter(data_tk[:,0],data_tk[:,1],color=\"blue\")\n",
        "  else:\n",
        "    for x,y,w,h in data_gt:\n",
        "      ax.add_patch(\n",
        "          patches.Rectangle((x,y),w,h,linewidth=1,edgecolor='r',facecolor='none')\n",
        "      )\n",
        "\n",
        "    for x,y,w,h in data_tk:\n",
        "      ax.add_patch(\n",
        "          patches.Rectangle((x,y),w,h,linewidth=1,edgecolor='b',facecolor='none')\n",
        "      )\n",
        "\n",
        "# plot_frame(*get_datasets(),201,type=\"box\")\n",
        "x,y = get_datasets(tk_path=\"tracker_LK_perFrame.csv\")\n",
        "plot_ped_track(x,y,[40],\"dot\")\n"
      ],
      "execution_count": null,
      "outputs": []
    },
    {
      "cell_type": "markdown",
      "metadata": {
        "id": "g2r13nMabWBm"
      },
      "source": [
        "## Time for pre-fetching and gray-scale conversion to avoid IO bottleneck (Not advisible for large dataset)\n",
        "\n",
        "**425 Frames**\n",
        "CPU times: user 2.51 s, sys: 178 ms, **total: 2.68 s**\n",
        "Wall time: 2.66 s"
      ]
    },
    {
      "cell_type": "markdown",
      "metadata": {
        "id": "3YfFb8h_gPBR"
      },
      "source": [
        "## tracker_LK_perPed.csv\n",
        "\n",
        "    TRESH      : 500\n",
        "    num_frames : 425\n",
        "    mota       : 0.45016\n",
        "    motp       : 76.164364\n",
        "\n",
        "## tracker_LK_perFrame.csv\n",
        "\n",
        "    TRESH      : 500\n",
        "    num_frames : 425\n",
        "    mota       : 0.381904\n",
        "    motp       : 79.370357"
      ]
    },
    {
      "cell_type": "code",
      "metadata": {
        "id": "JfeaHzMXYTlb",
        "colab": {
          "base_uri": "https://localhost:8080/",
          "height": 297
        },
        "outputId": "af166ab7-694d-42b5-fe1e-2325be230981"
      },
      "source": [
        "gt_columns = [\"frame\", \"id\", \"bb_left\", \"bb_top\", \"bb_width\", \"bb_height\", \"conf\", \"x\", \"y\", \"z\"]\n",
        "gt_csv_df = pd.read_csv(\"gt/gt.txt\",names=gt_columns)\n",
        "gt_csv_df[[\"bb_width\",\"bb_height\"]].describe()"
      ],
      "execution_count": null,
      "outputs": [
        {
          "output_type": "execute_result",
          "data": {
            "text/html": [
              "<div>\n",
              "<style scoped>\n",
              "    .dataframe tbody tr th:only-of-type {\n",
              "        vertical-align: middle;\n",
              "    }\n",
              "\n",
              "    .dataframe tbody tr th {\n",
              "        vertical-align: top;\n",
              "    }\n",
              "\n",
              "    .dataframe thead th {\n",
              "        text-align: right;\n",
              "    }\n",
              "</style>\n",
              "<table border=\"1\" class=\"dataframe\">\n",
              "  <thead>\n",
              "    <tr style=\"text-align: right;\">\n",
              "      <th></th>\n",
              "      <th>bb_width</th>\n",
              "      <th>bb_height</th>\n",
              "    </tr>\n",
              "  </thead>\n",
              "  <tbody>\n",
              "    <tr>\n",
              "      <th>count</th>\n",
              "      <td>24027.000000</td>\n",
              "      <td>24027.000000</td>\n",
              "    </tr>\n",
              "    <tr>\n",
              "      <th>mean</th>\n",
              "      <td>27.733652</td>\n",
              "      <td>28.963877</td>\n",
              "    </tr>\n",
              "    <tr>\n",
              "      <th>std</th>\n",
              "      <td>6.967582</td>\n",
              "      <td>5.902924</td>\n",
              "    </tr>\n",
              "    <tr>\n",
              "      <th>min</th>\n",
              "      <td>4.410156</td>\n",
              "      <td>9.800781</td>\n",
              "    </tr>\n",
              "    <tr>\n",
              "      <th>25%</th>\n",
              "      <td>22.904492</td>\n",
              "      <td>24.169618</td>\n",
              "    </tr>\n",
              "    <tr>\n",
              "      <th>50%</th>\n",
              "      <td>26.730273</td>\n",
              "      <td>28.465820</td>\n",
              "    </tr>\n",
              "    <tr>\n",
              "      <th>75%</th>\n",
              "      <td>32.391797</td>\n",
              "      <td>32.953960</td>\n",
              "    </tr>\n",
              "    <tr>\n",
              "      <th>max</th>\n",
              "      <td>49.017914</td>\n",
              "      <td>45.555557</td>\n",
              "    </tr>\n",
              "  </tbody>\n",
              "</table>\n",
              "</div>"
            ],
            "text/plain": [
              "           bb_width     bb_height\n",
              "count  24027.000000  24027.000000\n",
              "mean      27.733652     28.963877\n",
              "std        6.967582      5.902924\n",
              "min        4.410156      9.800781\n",
              "25%       22.904492     24.169618\n",
              "50%       26.730273     28.465820\n",
              "75%       32.391797     32.953960\n",
              "max       49.017914     45.555557"
            ]
          },
          "metadata": {
            "tags": []
          },
          "execution_count": 8
        }
      ]
    },
    {
      "cell_type": "code",
      "metadata": {
        "id": "9uzcW3GXt_HG",
        "colab": {
          "base_uri": "https://localhost:8080/",
          "height": 419
        },
        "outputId": "ed691d9e-5820-4271-f8c7-0b0bf895649c"
      },
      "source": [
        "gt_columns = [\"frame\", \"id\", \"bb_left\", \"bb_top\", \"bb_width\", \"bb_height\", \"conf\", \"x\", \"y\", \"z\"]\n",
        "gt_csv_df = pd.read_csv(\"gt/gt.txt\",names=gt_columns)\n",
        "gt_csv_df[\"h\"] = gt_csv_df[\"bb_left\"]+(gt_csv_df[\"bb_width\"]/2)\n",
        "gt_csv_df[\"k\"] = gt_csv_df[\"bb_top\"]+(gt_csv_df[\"bb_height\"]/2)\n",
        "gt_csv_df.drop([\"bb_left\", \"bb_top\", \"bb_width\", \"bb_height\",\"conf\",\"x\",\"y\",\"z\"],axis=1,inplace=True)\n",
        "gt_csv_df = gt_csv_df[gt_csv_df.id==2]\n",
        "gt_csv_df"
      ],
      "execution_count": null,
      "outputs": [
        {
          "output_type": "execute_result",
          "data": {
            "text/html": [
              "<div>\n",
              "<style scoped>\n",
              "    .dataframe tbody tr th:only-of-type {\n",
              "        vertical-align: middle;\n",
              "    }\n",
              "\n",
              "    .dataframe tbody tr th {\n",
              "        vertical-align: top;\n",
              "    }\n",
              "\n",
              "    .dataframe thead th {\n",
              "        text-align: right;\n",
              "    }\n",
              "</style>\n",
              "<table border=\"1\" class=\"dataframe\">\n",
              "  <thead>\n",
              "    <tr style=\"text-align: right;\">\n",
              "      <th></th>\n",
              "      <th>frame</th>\n",
              "      <th>id</th>\n",
              "      <th>h</th>\n",
              "      <th>k</th>\n",
              "    </tr>\n",
              "  </thead>\n",
              "  <tbody>\n",
              "    <tr>\n",
              "      <th>1</th>\n",
              "      <td>1</td>\n",
              "      <td>2</td>\n",
              "      <td>32.360156</td>\n",
              "      <td>186.861653</td>\n",
              "    </tr>\n",
              "    <tr>\n",
              "      <th>68</th>\n",
              "      <td>2</td>\n",
              "      <td>2</td>\n",
              "      <td>34.282031</td>\n",
              "      <td>187.117879</td>\n",
              "    </tr>\n",
              "    <tr>\n",
              "      <th>135</th>\n",
              "      <td>3</td>\n",
              "      <td>2</td>\n",
              "      <td>36.203906</td>\n",
              "      <td>187.374104</td>\n",
              "    </tr>\n",
              "    <tr>\n",
              "      <th>202</th>\n",
              "      <td>4</td>\n",
              "      <td>2</td>\n",
              "      <td>38.125781</td>\n",
              "      <td>187.630330</td>\n",
              "    </tr>\n",
              "    <tr>\n",
              "      <th>269</th>\n",
              "      <td>5</td>\n",
              "      <td>2</td>\n",
              "      <td>40.047656</td>\n",
              "      <td>187.886556</td>\n",
              "    </tr>\n",
              "    <tr>\n",
              "      <th>...</th>\n",
              "      <td>...</td>\n",
              "      <td>...</td>\n",
              "      <td>...</td>\n",
              "      <td>...</td>\n",
              "    </tr>\n",
              "    <tr>\n",
              "      <th>18557</th>\n",
              "      <td>295</td>\n",
              "      <td>2</td>\n",
              "      <td>618.659961</td>\n",
              "      <td>59.761067</td>\n",
              "    </tr>\n",
              "    <tr>\n",
              "      <th>18611</th>\n",
              "      <td>296</td>\n",
              "      <td>2</td>\n",
              "      <td>618.659961</td>\n",
              "      <td>59.761067</td>\n",
              "    </tr>\n",
              "    <tr>\n",
              "      <th>18665</th>\n",
              "      <td>297</td>\n",
              "      <td>2</td>\n",
              "      <td>618.659961</td>\n",
              "      <td>59.761067</td>\n",
              "    </tr>\n",
              "    <tr>\n",
              "      <th>18718</th>\n",
              "      <td>298</td>\n",
              "      <td>2</td>\n",
              "      <td>618.659961</td>\n",
              "      <td>59.761067</td>\n",
              "    </tr>\n",
              "    <tr>\n",
              "      <th>18770</th>\n",
              "      <td>299</td>\n",
              "      <td>2</td>\n",
              "      <td>618.659961</td>\n",
              "      <td>59.761067</td>\n",
              "    </tr>\n",
              "  </tbody>\n",
              "</table>\n",
              "<p>299 rows × 4 columns</p>\n",
              "</div>"
            ],
            "text/plain": [
              "       frame  id           h           k\n",
              "1          1   2   32.360156  186.861653\n",
              "68         2   2   34.282031  187.117879\n",
              "135        3   2   36.203906  187.374104\n",
              "202        4   2   38.125781  187.630330\n",
              "269        5   2   40.047656  187.886556\n",
              "...      ...  ..         ...         ...\n",
              "18557    295   2  618.659961   59.761067\n",
              "18611    296   2  618.659961   59.761067\n",
              "18665    297   2  618.659961   59.761067\n",
              "18718    298   2  618.659961   59.761067\n",
              "18770    299   2  618.659961   59.761067\n",
              "\n",
              "[299 rows x 4 columns]"
            ]
          },
          "metadata": {
            "tags": []
          },
          "execution_count": 30
        }
      ]
    }
  ]
}